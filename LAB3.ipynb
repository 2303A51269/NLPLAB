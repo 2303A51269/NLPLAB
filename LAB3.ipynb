{
  "nbformat": 4,
  "nbformat_minor": 0,
  "metadata": {
    "colab": {
      "provenance": [],
      "authorship_tag": "ABX9TyOAxGaKBbWhuvkVmYBW7UHU",
      "include_colab_link": true
    },
    "kernelspec": {
      "name": "python3",
      "display_name": "Python 3"
    },
    "language_info": {
      "name": "python"
    }
  },
  "cells": [
    {
      "cell_type": "markdown",
      "metadata": {
        "id": "view-in-github",
        "colab_type": "text"
      },
      "source": [
        "<a href=\"https://colab.research.google.com/github/2303A51269/NLPLAB/blob/main/LAB3.ipynb\" target=\"_parent\"><img src=\"https://colab.research.google.com/assets/colab-badge.svg\" alt=\"Open In Colab\"/></a>"
      ]
    },
    {
      "cell_type": "code",
      "execution_count": 2,
      "metadata": {
        "colab": {
          "base_uri": "https://localhost:8080/"
        },
        "id": "IvOtOxFW4SvI",
        "outputId": "a3ceb62a-b6b0-4d32-d8ed-f6d5280b1740"
      },
      "outputs": [
        {
          "output_type": "stream",
          "name": "stdout",
          "text": [
            "First 25 complaints with length info:\n",
            "\n",
            "                                       complaint_text  num_characters  \\\n",
            "0   I was charged twice for the same transaction a...              79   \n",
            "1   The credit card company keeps calling me even ...              70   \n",
            "2   My mortgage application was denied without pro...              62   \n",
            "3   I received a loan statement with incorrect int...              66   \n",
            "4        The customer support was rude and unhelpful.              44   \n",
            "5         My account was frozen without prior notice.              43   \n",
            "6     The insurance company denied my claim unfairly.              47   \n",
            "7      The debt collector keeps harassing me at work.              46   \n",
            "8   I was promised lower interest rates but got ch...              64   \n",
            "9   My payment was not processed on time and I was...              53   \n",
            "10  They closed my credit card account without inf...              56   \n",
            "11  I keep getting unauthorized charges on my debi...              53   \n",
            "12  The bank gave me false information about my lo...              55   \n",
            "13  I was tricked into signing a financial product...              62   \n",
            "14  The company refuses to correct errors in my cr...              58   \n",
            "15  I was misled about the fees associated with my...              55   \n",
            "16  My online account was hacked and the bank is n...              57   \n",
            "17  The ATM deducted money but did not dispense cash.              49   \n",
            "18       The mortgage lender is charging hidden fees.              44   \n",
            "19  I never received the promised rewards for usin...              56   \n",
            "20  The customer care team ignored my repeated ema...              50   \n",
            "21  I was charged overdraft fees even when I had e...              60   \n",
            "22        My wire transfer was delayed for no reason.              43   \n",
            "23  They are withholding important documents relat...              60   \n",
            "24  I cannot close my account due to unnecessary r...              58   \n",
            "\n",
            "    num_words  \n",
            "0          15  \n",
            "1          13  \n",
            "2           8  \n",
            "3          10  \n",
            "4           7  \n",
            "5           7  \n",
            "6           7  \n",
            "7           8  \n",
            "8          11  \n",
            "9          11  \n",
            "10          9  \n",
            "11          9  \n",
            "12         10  \n",
            "13         12  \n",
            "14         10  \n",
            "15         10  \n",
            "16         11  \n",
            "17          9  \n",
            "18          7  \n",
            "19         10  \n",
            "20          8  \n",
            "21         11  \n",
            "22          8  \n",
            "23          9  \n",
            "24          9  \n"
          ]
        }
      ],
      "source": [
        "import pandas as pd\n",
        "\n",
        "# Simulated customer complaints dataset\n",
        "data = {\n",
        "    \"complaint_text\": [\n",
        "        \"I was charged twice for the same transaction and the bank refuses to refund me.\",\n",
        "        \"The credit card company keeps calling me even after I cleared my dues.\",\n",
        "        \"My mortgage application was denied without proper explanation.\",\n",
        "        \"I received a loan statement with incorrect interest rates applied.\",\n",
        "        \"The customer support was rude and unhelpful.\",\n",
        "        \"My account was frozen without prior notice.\",\n",
        "        \"The insurance company denied my claim unfairly.\",\n",
        "        \"The debt collector keeps harassing me at work.\",\n",
        "        \"I was promised lower interest rates but got charged higher ones.\",\n",
        "        \"My payment was not processed on time and I was fined.\",\n",
        "        \"They closed my credit card account without informing me.\",\n",
        "        \"I keep getting unauthorized charges on my debit card.\",\n",
        "        \"The bank gave me false information about my loan terms.\",\n",
        "        \"I was tricked into signing a financial product I did not want.\",\n",
        "        \"The company refuses to correct errors in my credit report.\",\n",
        "        \"I was misled about the fees associated with my account.\",\n",
        "        \"My online account was hacked and the bank is not helping.\",\n",
        "        \"The ATM deducted money but did not dispense cash.\",\n",
        "        \"The mortgage lender is charging hidden fees.\",\n",
        "        \"I never received the promised rewards for using my card.\",\n",
        "        \"The customer care team ignored my repeated emails.\",\n",
        "        \"I was charged overdraft fees even when I had enough balance.\",\n",
        "        \"My wire transfer was delayed for no reason.\",\n",
        "        \"They are withholding important documents related to my loan.\",\n",
        "        \"I cannot close my account due to unnecessary restrictions.\"\n",
        "    ]\n",
        "}\n",
        "\n",
        "df = pd.DataFrame(data)\n",
        "\n",
        "# Character and word count\n",
        "df[\"num_characters\"] = df[\"complaint_text\"].apply(len)\n",
        "df[\"num_words\"] = df[\"complaint_text\"].apply(lambda x: len(x.split()))\n",
        "\n",
        "print(\"First 25 complaints with length info:\\n\")\n",
        "print(df.head(25))"
      ]
    },
    {
      "cell_type": "code",
      "source": [
        "import spacy\n",
        "from collections import Counter\n",
        "\n",
        "nlp = spacy.load(\"en_core_web_sm\")\n",
        "\n",
        "complaints = [\n",
        "    \"I was charged twice for the same transaction and the bank refuses to refund me.\",\n",
        "    \"The credit card company keeps calling me even after I cleared my dues.\",\n",
        "    \"My mortgage application was denied without proper explanation.\",\n",
        "]\n",
        "\n",
        "docs = [nlp(text) for text in complaints]\n",
        "\n",
        "all_pos = [token.pos_ for doc in docs for token in doc]\n",
        "\n",
        "pos_freq = Counter(all_pos)\n",
        "\n",
        "print(\"POS Frequencies (spaCy):\")\n",
        "print(pos_freq.most_common())"
      ],
      "metadata": {
        "colab": {
          "base_uri": "https://localhost:8080/"
        },
        "id": "n0lv4r8s_GCg",
        "outputId": "f742d3f6-c727-417e-8430-d467c11a1b75"
      },
      "execution_count": 5,
      "outputs": [
        {
          "output_type": "stream",
          "name": "stdout",
          "text": [
            "POS Frequencies (spaCy):\n",
            "[('NOUN', 9), ('VERB', 7), ('PRON', 6), ('DET', 3), ('PUNCT', 3), ('AUX', 2), ('ADV', 2), ('ADP', 2), ('ADJ', 2), ('CCONJ', 1), ('PART', 1), ('SCONJ', 1)]\n"
          ]
        }
      ]
    },
    {
      "cell_type": "code",
      "source": [
        "import spacy\n",
        "from collections import Counter\n",
        "import matplotlib.pyplot as plt\n",
        "\n",
        "# Load spaCy English model\n",
        "nlp = spacy.load(\"en_core_web_sm\")\n",
        "\n",
        "complaints = [\n",
        "    \"I was charged twice for the same transaction and the bank refuses to refund me.\",\n",
        "    \"The credit card company keeps calling me even after I cleared my dues.\",\n",
        "    \"My mortgage application was denied without proper explanation.\",\n",
        "]\n",
        "\n",
        "# Process complaints\n",
        "docs = [nlp(text) for text in complaints]\n",
        "\n",
        "# Extract verbs & adjectives\n",
        "verbs = [token.text for doc in docs for token in doc if token.pos_ == \"VERB\"]\n",
        "adjs  = [token.text for doc in docs for token in doc if token.pos_ == \"ADJ\"]\n",
        "\n",
        "print(\"Verbs:\", verbs)\n",
        "print(\"Adjectives:\", adjs)\n",
        "\n",
        "# Count frequencies\n",
        "verb_freq = Counter(verbs)\n",
        "adj_freq = Counter(adjs)\n",
        "\n",
        "# Visualization\n",
        "plt.figure(figsize=(10,4))\n",
        "plt.bar(verb_freq.keys(), verb_freq.values())\n",
        "plt.title(\"Verb Frequencies\")\n",
        "plt.show()\n",
        "\n",
        "plt.figure(figsize=(10,4))\n",
        "plt.bar(adj_freq.keys(), adj_freq.values(), color=\"orange\")\n",
        "plt.title(\"Adjective Frequencies\")\n",
        "plt.show()"
      ],
      "metadata": {
        "colab": {
          "base_uri": "https://localhost:8080/",
          "height": 800
        },
        "id": "_9q2vc1gAd88",
        "outputId": "a9f5aeca-ac3e-45a9-fb93-a072ac76e570"
      },
      "execution_count": 6,
      "outputs": [
        {
          "output_type": "stream",
          "name": "stdout",
          "text": [
            "Verbs: ['charged', 'refuses', 'refund', 'keeps', 'calling', 'cleared', 'denied']\n",
            "Adjectives: ['same', 'proper']\n"
          ]
        },
        {
          "output_type": "display_data",
          "data": {
            "text/plain": [
              "<Figure size 1000x400 with 1 Axes>"
            ],
            "image/png": "[encoded data removed]"
          },
          "metadata": {}
        },
        {
          "output_type": "display_data",
          "data": {
            "text/plain": [
              "<Figure size 1000x400 with 1 Axes>"
            ],
            "image/png": "[encoded data removed]"
          },
          "metadata": {}
        }
      ]
    },
    {
      "cell_type": "code",
      "source": [],
      "metadata": {
        "id": "--aGnbN0Aj_c"
      },
      "execution_count": null,
      "outputs": []
    }
  ]
}